{
 "cells": [
  {
   "cell_type": "code",
   "execution_count": 2,
   "metadata": {},
   "outputs": [],
   "source": [
    "num_friends = [100,49,41,40,25,21,21,19,19,18,18,16,15,15,15,15,14,14,13,13,13,13,12,12,11,10,10,10,10,10,10,10,10,10,10,10,10,10,10,10,9,9,9,9,9,9,9,9,9,9,9,9,9,9,9,9,9,9,8,8,8,8,8,8,8,8,8,8,8,8,8,7,7,7,7,7,7,7,7,7,7,7,7,7,7,7,6,6,6,6,6,6,6,6,6,6,6,6,6,6,6,6,6,6,6,6,6,6,5,5,5,5,5,5,5,5,5,5,5,5,5,5,5,5,5,4,4,4,4,4,4,4,4,4,4,4,4,4,4,4,4,4,4,4,4,3,3,3,3,3,3,3,3,3,3,3,3,3,3,3,3,3,3,3,3,2,2,2,2,2,2,2,2,2,2,2,2,2,2,2,2,2,1,1,1,1,1,1,1,1,1,1,1,1,1,1,1,1,1,1,1,1,1,1]"
   ]
  },
  {
   "cell_type": "code",
   "execution_count": 4,
   "metadata": {},
   "outputs": [
    {
     "data": {
      "text/plain": [
       "7.333333333333333"
      ]
     },
     "execution_count": 4,
     "metadata": {},
     "output_type": "execute_result"
    }
   ],
   "source": [
    "def mean(data):\n",
    "    return sum(data) / len(data)\n",
    "\n",
    "mean(num_friends)"
   ]
  },
  {
   "cell_type": "code",
   "execution_count": 9,
   "metadata": {},
   "outputs": [],
   "source": [
    "def median(data):\n",
    "    sorted_data = sorted(data)\n",
    "    n = len(data)\n",
    "    middle = n // 2;\n",
    "    \n",
    "    if n % 2 == 1:\n",
    "        return sorted_data[middle]\n",
    "\n",
    "    lo = middle - 1\n",
    "    hi = middle\n",
    "    return (sorted_data[lo] + sorted_data[hi]) / 2\n",
    "    \n",
    "    \n",
    "assert median([1,2,3]) == 2\n",
    "assert median([1,2,3,4]) == 2.5"
   ]
  },
  {
   "cell_type": "code",
   "execution_count": 14,
   "metadata": {},
   "outputs": [],
   "source": [
    "def quantile(data, q):\n",
    "    return sorted(data)[int(q * len(data))]\n",
    "\n",
    "assert quantile([0,1,2,3,4,5,6,7,8,9], 0.10) == 1\n",
    "assert quantile([0,1,2,3,4,5,6,7,8,9], 0.60) == 6"
   ]
  },
  {
   "cell_type": "code",
   "execution_count": 20,
   "metadata": {},
   "outputs": [],
   "source": [
    "def mode(data):\n",
    "    d = {}\n",
    "    max_count = 0\n",
    "    for item in data:\n",
    "        if item not in d:\n",
    "            d[item] = 0\n",
    "        d[item] = d[item] + 1\n",
    "        if d[item] > max_count:\n",
    "            max_count = d[item]\n",
    "    \n",
    "    return [item for item, count in d.items() if count == max_count]\n",
    "\n",
    "assert mode(num_friends) == [6, 1]"
   ]
  },
  {
   "cell_type": "code",
   "execution_count": 21,
   "metadata": {},
   "outputs": [],
   "source": [
    "def data_range(data):\n",
    "    return max(data) - min(data)\n",
    "\n",
    "assert data_range(num_friends) == 99"
   ]
  }
 ],
 "metadata": {
  "kernelspec": {
   "display_name": "Python 3",
   "language": "python",
   "name": "python3"
  },
  "language_info": {
   "codemirror_mode": {
    "name": "ipython",
    "version": 3
   },
   "file_extension": ".py",
   "mimetype": "text/x-python",
   "name": "python",
   "nbconvert_exporter": "python",
   "pygments_lexer": "ipython3",
   "version": "3.6.5"
  }
 },
 "nbformat": 4,
 "nbformat_minor": 2
}
